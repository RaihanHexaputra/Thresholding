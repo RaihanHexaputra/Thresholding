{
 "cells": [
  {
   "cell_type": "code",
   "execution_count": 1,
   "id": "ed025ff4-309c-4926-b5c9-725682279014",
   "metadata": {},
   "outputs": [],
   "source": [
    "# Library\n",
    "import pandas as pd\n",
    "import matplotlib.pyplot as plt\n",
    "import os\n",
    "from sklearn.metrics import confusion_matrix\n",
    "import sklearn.metrics as metrics\n",
    "from sklearn.model_selection import cross_val_score\n",
    "import numpy as np\n",
    "from tqdm import tqdm"
   ]
  },
  {
   "cell_type": "code",
   "execution_count": 2,
   "id": "396f8840-3416-48cb-8a12-68b2d5855736",
   "metadata": {},
   "outputs": [],
   "source": [
    "# Input Dataset \n",
    "\n",
    "DM = pd.read_csv(\"C:\\\\Users\\\\Muhammad Raihan\\\\Downloads\\\\Obfuscated-MalMem2022.csv\") #DM--> Dataset Malware"
   ]
  },
  {
   "cell_type": "code",
   "execution_count": 3,
   "id": "9a229129-c47a-40d1-a7e0-7a55bbecb148",
   "metadata": {},
   "outputs": [],
   "source": [
    "#Feature Selection\n",
    "features = DM.drop(['Category','Class'],axis=1).columns.tolist()\n",
    "# Target variable\n",
    "y = DM['Class'].values"
   ]
  },
  {
   "cell_type": "code",
   "execution_count": 4,
   "id": "5196a377-052f-4bea-8c43-2d6a7ba1a9f2",
   "metadata": {},
   "outputs": [],
   "source": [
    "# Memilih 5% data secara acak dari setiap fitur/column\n",
    "sampled_data = DM.groupby('Class').apply(lambda x: x.sample(frac=0.05)).reset_index(drop=True)"
   ]
  },
  {
   "cell_type": "code",
   "execution_count": 5,
   "id": "77acb697-6d53-4375-a397-e4863feb4437",
   "metadata": {},
   "outputs": [
    {
     "name": "stdout",
     "output_type": "stream",
     "text": [
      "  1 pslist.nproc                             2930            int64\n",
      "  2 pslist.nppid                             2930            int64\n",
      "  3 pslist.avg_threads                       2930            float64\n",
      "  4 pslist.nprocs64bit                       2930            int64\n",
      "  5 pslist.avg_handlers                      2930            float64\n",
      "  6 dlllist.ndlls                            2930            int64\n",
      "  7 dlllist.avg_dlls_per_proc                2930            float64\n",
      "  8 handles.nhandles                         2930            int64\n",
      "  9 handles.avg_handles_per_proc             2930            float64\n",
      " 10 handles.nport                            2930            int64\n",
      " 11 handles.nfile                            2930            int64\n",
      " 12 handles.nevent                           2930            int64\n",
      " 13 handles.ndesktop                         2930            int64\n",
      " 14 handles.nkey                             2930            int64\n",
      " 15 handles.nthread                          2930            int64\n",
      " 16 handles.ndirectory                       2930            int64\n",
      " 17 handles.nsemaphore                       2930            int64\n",
      " 18 handles.ntimer                           2930            int64\n",
      " 19 handles.nsection                         2930            int64\n",
      " 20 handles.nmutant                          2930            int64\n",
      " 21 ldrmodules.not_in_load                   2930            int64\n",
      " 22 ldrmodules.not_in_init                   2930            int64\n",
      " 23 ldrmodules.not_in_mem                    2930            int64\n",
      " 24 ldrmodules.not_in_load_avg               2930            float64\n",
      " 25 ldrmodules.not_in_init_avg               2930            float64\n",
      " 26 ldrmodules.not_in_mem_avg                2930            float64\n",
      " 27 malfind.ninjections                      2930            int64\n",
      " 28 malfind.commitCharge                     2930            int64\n",
      " 29 malfind.protection                       2930            int64\n",
      " 30 malfind.uniqueInjections                 2930            float64\n",
      " 31 psxview.not_in_pslist                    2930            int64\n",
      " 32 psxview.not_in_eprocess_pool             2930            int64\n",
      " 33 psxview.not_in_ethread_pool              2930            int64\n",
      " 34 psxview.not_in_pspcid_list               2930            int64\n",
      " 35 psxview.not_in_csrss_handles             2930            int64\n",
      " 36 psxview.not_in_session                   2930            int64\n",
      " 37 psxview.not_in_deskthrd                  2930            int64\n",
      " 38 psxview.not_in_pslist_false_avg          2930            float64\n",
      " 39 psxview.not_in_eprocess_pool_false_avg   2930            float64\n",
      " 40 psxview.not_in_ethread_pool_false_avg    2930            float64\n",
      " 41 psxview.not_in_pspcid_list_false_avg     2930            float64\n",
      " 42 psxview.not_in_csrss_handles_false_avg   2930            float64\n",
      " 43 psxview.not_in_session_false_avg         2930            float64\n",
      " 44 psxview.not_in_deskthrd_false_avg        2930            float64\n",
      " 45 modules.nmodules                         2930            int64\n",
      " 46 svcscan.nservices                        2930            int64\n",
      " 47 svcscan.kernel_drivers                   2930            int64\n",
      " 48 svcscan.fs_drivers                       2930            int64\n",
      " 49 svcscan.process_services                 2930            int64\n",
      " 50 svcscan.shared_process_services          2930            int64\n",
      " 51 svcscan.interactive_process_services     2930            int64\n",
      " 52 svcscan.nactive                          2930            int64\n",
      " 53 callbacks.ncallbacks                     2930            int64\n",
      " 54 callbacks.nanonymous                     2930            int64\n",
      " 55 callbacks.ngeneric                       2930            int64\n"
     ]
    }
   ],
   "source": [
    "for i, column_name in enumerate(features):\n",
    "    print(f\"{i+1:3} {column_name:40} {sampled_data[column_name].count():<15} {sampled_data[column_name].dtype}\")"
   ]
  },
  {
   "cell_type": "code",
   "execution_count": 6,
   "id": "2910228e-aed3-41f4-b2d2-cd0103da955f",
   "metadata": {},
   "outputs": [
    {
     "name": "stderr",
     "output_type": "stream",
     "text": [
      "Progress: 100%|████████████████████████████████████████████████████████████████████████| 55/55 [35:55<00:00, 39.19s/it]\n",
      "IOPub data rate exceeded.\n",
      "The Jupyter server will temporarily stop sending output\n",
      "to the client in order to avoid crashing it.\n",
      "To change this limit, set the config variable\n",
      "`--ServerApp.iopub_data_rate_limit`.\n",
      "\n",
      "Current values:\n",
      "ServerApp.iopub_data_rate_limit=1000000.0 (bytes/sec)\n",
      "ServerApp.rate_limit_window=3.0 (secs)\n",
      "\n"
     ]
    }
   ],
   "source": [
    "# Mencoba mencari threshold terbaik pada fitur yang dipilih\n",
    "hasil_threshold = []\n",
    "\n",
    "def Thresholding(threshold, feature):\n",
    "    # Melakukan thresholding\n",
    "    BenignDataThreshold = sampled_data[sampled_data[feature] > int(threshold)]\n",
    "    MalwareDataThreshold = sampled_data[sampled_data[feature] <= int(threshold)]\n",
    "\n",
    "    # menentukan TP, TN, FP, FN\n",
    "    from sklearn.metrics import confusion_matrix\n",
    "\n",
    "    # Untuk BenignDataThreshold\n",
    "    y_true_benign = [\"Benign\"] * len(BenignDataThreshold)\n",
    "    y_pred_benign = BenignDataThreshold[\"Class\"]\n",
    "\n",
    "    # Untuk MalwareDataThreshold\n",
    "    y_true_malware = [\"Malware\"] * len(MalwareDataThreshold)\n",
    "    y_pred_malware = MalwareDataThreshold[\"Class\"]\n",
    "\n",
    "    # Menyatukan true labels dan predicted labels\n",
    "    y_true = y_true_benign + y_true_malware\n",
    "    y_pred = y_pred_benign.tolist() + y_pred_malware.tolist()\n",
    "\n",
    "    # Menghitung confusion matrix\n",
    "    tn, fp, fn, tp = confusion_matrix(y_true, y_pred).ravel()\n",
    "\n",
    "    # Menghitung Precision, Recall, F1-score, dan Accuracy\n",
    "    PrecisionThreshold = tp/(tp+fp) if (tp+fp) != 0 else 0\n",
    "    RecallThreshold = tp/(tp+fn) if (tp+fn) != 0 else 0\n",
    "    F1ScoreThreshold = 2 * ((PrecisionThreshold*RecallThreshold)/(PrecisionThreshold+RecallThreshold)) if (PrecisionThreshold+RecallThreshold) != 0 else 0\n",
    "    AccuracyThreshold = (tp+tn)/(tp+fp+tn+fn) if (tp+fp+tn+fn) != 0 else 0\n",
    "\n",
    "    matrix = [[feature, threshold], [PrecisionThreshold], [RecallThreshold], [F1ScoreThreshold], [AccuracyThreshold]]\n",
    "    hasil_threshold.append(matrix)\n",
    "\n",
    "for feature in tqdm(features, desc='Progress'):\n",
    "    Max = sampled_data[feature].max()\n",
    "    Min = sampled_data[feature].min()\n",
    "\n",
    "    for x in range(int(Min), int(Max + 1)):\n",
    "        Thresholding(x, feature)\n",
    "\n",
    "print(hasil_threshold)"
   ]
  },
  {
   "cell_type": "code",
   "execution_count": 7,
   "id": "b5fcaa78-223e-473e-95de-2b59f6857c38",
   "metadata": {},
   "outputs": [
    {
     "name": "stdout",
     "output_type": "stream",
     "text": [
      "Dengan fitur svcscan.nservices dan threshold 390, menghasilkan akurasi 0.9969283276450512 yang menjadikan angka threshold tersebut adalah threshold terbaik yang dapat digunakan.\n"
     ]
    }
   ],
   "source": [
    "winner = [['', 0], [0], [0], [0], [0]]  # Format: [[feature, threshold], [precision], [recall], [f1-score], [accuracy]]\n",
    "\n",
    "for result in hasil_threshold:\n",
    "    if result[4][0] > winner[4][0]:\n",
    "        winner = result\n",
    "\n",
    "print(f\"Dengan fitur {winner[0][0]} dan threshold {winner[0][1]}, menghasilkan akurasi {winner[4][0]} yang menjadikan angka threshold tersebut adalah threshold terbaik yang dapat digunakan.\")\n"
   ]
  },
  {
   "cell_type": "code",
   "execution_count": 8,
   "id": "9cb377c6-6f86-4fed-842c-18b094dcc1bf",
   "metadata": {},
   "outputs": [
    {
     "data": {
      "image/png": "[encoded data removed]",
      "text/plain": [
       "<Figure size 1000x600 with 1 Axes>"
      ]
     },
     "metadata": {},
     "output_type": "display_data"
    }
   ],
   "source": [
    "# Mendapatkan fitur pemenang dan thresholdnya\n",
    "winner_feature, winner_threshold = winner[0]\n",
    "\n",
    "# Memfilter hasil threshold untuk fitur pemenang\n",
    "winner_results = [result for result in hasil_threshold if result[0][0] == winner_feature]\n",
    "\n",
    "# Pisahkan hasil menjadi list berdasarkan feature dan kolom\n",
    "thresholds, precision, recall, f1_score, accuracy = [], [], [], [], []\n",
    "for result in winner_results:\n",
    "    thresholds.append(result[0][1])\n",
    "    precision.append(result[1][0])\n",
    "    recall.append(result[2][0])\n",
    "    f1_score.append(result[3][0])\n",
    "    accuracy.append(result[4][0])\n",
    "\n",
    "# Plotting\n",
    "plt.figure(figsize=(10, 6))\n",
    "plt.plot(thresholds, accuracy, label='Accuracy')\n",
    "plt.plot(thresholds, precision, label='Precision')\n",
    "plt.plot(thresholds, recall, label='Recall')\n",
    "plt.plot(thresholds, f1_score, label='F1 Score')\n",
    "\n",
    "plt.title(f'Metrics vs. Threshold for Feature {winner_feature}')\n",
    "plt.xlabel('Threshold')\n",
    "plt.ylabel('Score')\n",
    "plt.legend()\n",
    "plt.grid(True)\n",
    "plt.show()"
   ]
  },
  {
   "cell_type": "code",
   "execution_count": null,
   "id": "fb53b7d6-8a37-431d-83cd-7cb4c53a8df7",
   "metadata": {},
   "outputs": [],
   "source": []
  }
 ],
 "metadata": {
  "kernelspec": {
   "display_name": "Python 3 (ipykernel)",
   "language": "python",
   "name": "python3"
  },
  "language_info": {
   "codemirror_mode": {
    "name": "ipython",
    "version": 3
   },
   "file_extension": ".py",
   "mimetype": "text/x-python",
   "name": "python",
   "nbconvert_exporter": "python",
   "pygments_lexer": "ipython3",
   "version": "3.11.2"
  }
 },
 "nbformat": 4,
 "nbformat_minor": 5
}
